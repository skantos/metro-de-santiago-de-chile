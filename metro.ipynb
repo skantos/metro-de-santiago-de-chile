{
 "cells": [
  {
   "cell_type": "code",
   "execution_count": 9,
   "metadata": {},
   "outputs": [],
   "source": [
    "import pandas as pd\n",
    "import numpy as np\n",
    "import networkx as nx"
   ]
  },
  {
   "cell_type": "code",
   "execution_count": 23,
   "metadata": {},
   "outputs": [],
   "source": [
    "df = pd.read_excel('plantilla_metro.xlsx', index_col=None)"
   ]
  },
  {
   "cell_type": "code",
   "execution_count": 24,
   "metadata": {},
   "outputs": [
    {
     "name": "stdout",
     "output_type": "stream",
     "text": [
      "  Estación Origen     Estación Destino Color  Logitud de Estación\n",
      "0       San Pablo              Neptuno  Rojo                  1.0\n",
      "1         Neptuno            Pajaritos  Rojo                  1.0\n",
      "2       Pajaritos            Las Rejas  Rojo                  1.0\n",
      "3       Las Rejas              Ecuador  Rojo                  1.0\n",
      "4         Ecuador  San Alberto Hurtado  Rojo                  1.0\n",
      "Index(['Estación Origen', 'Estación Destino', 'Color', 'Logitud de Estación'], dtype='object')\n"
     ]
    }
   ],
   "source": [
    "print(df.head()) \n",
    "print(df.columns)"
   ]
  },
  {
   "cell_type": "code",
   "execution_count": 27,
   "metadata": {},
   "outputs": [],
   "source": [
    "METRO = nx.from_pandas_edgelist(df,source='Estación Origen',target='Estación Destino',edge_attr='Logitud de Estación')\n",
    "print()"
   ]
  },
  {
   "cell_type": "code",
   "execution_count": 28,
   "metadata": {},
   "outputs": [
    {
     "data": {
      "text/plain": [
       "NodeView(('San Pablo', 'Neptuno', 'Pajaritos', 'Las Rejas', 'Ecuador', 'San Alberto Hurtado', 'Universidad de Santiago', 'Estación Central', 'ULA', 'República', 'Los Héroes', 'La Moneda', 'Universidad de Chile', 'Santa Lucía', 'Universidad Católica', 'Baquedano', 'Salvador', 'Manuel Montt', 'Pedro de Valdivia', 'Los Leones', 'Tobalaba', 'El Golf', 'Alcántara', 'Escuela Militar', 'Manquehue', 'Hernando de Magallanes', 'Los Dominicos', 'Vespucio Norte', 'Zapadores', 'Dorsal', 'Einstein', 'Cementerios', 'Patronato', 'Puente Cal y Canto', 'Santa Ana', 'Toesca', \"Parque O'Higgins\", 'Rondizzoni', 'Franklin', 'El Llano', 'San Miguel', 'Lo Vial', 'Departamental', 'Ciudad del Niño', 'Lo Ovalle', 'El Parrón', 'La Cisterna', 'Los Libertadores', 'Cardenal Caro', 'Vivaceta', 'Conchalí', 'Plaza Chacabuco', 'Hospitales', 'Plaza de Armas', 'Santa Isabel', 'Irarrázaval', 'Monseñor Eyzaguirre', 'Ñuñoa', 'Chile España', 'Villa Frei', 'Plaza Egaña', 'Los Orientales', 'Fernando Castillo Velasco', 'Cristóbal Colón', 'Francisco Bilbao', 'Príncipe de Gales', 'Simón Bolívar', 'Los Presidentes', 'Quilín', 'Las Torres', 'Macul', 'Vicuña Mackenna', 'Vicente Valdés', 'Rojas Magallanes', 'Trinidad', 'San José de la Estrella', 'Los Quillayes', 'Elisa Correa', 'Hospital Sótero del Río', 'Protectora de la Infancia', 'Las Mercedes', 'Plaza de Puente Alto', 'Santa Julia', 'La Granja', 'San Ramón', 'Santa Rosa', 'Plaza de Maipú', 'Santiago Bueras', 'Del Sol', 'Monte Tabor', 'Las Parcelas', 'Laguna Sur', 'Barrancas', 'Pudahuel', nan, 'Lo Prado', 'Blanqueado', 'Gruta de Lourdes', 'Quinta Normal', 'Cumming', 'Bellas Artes', 'Parque Bustamante', 'Ñuble', 'Rodrigo de Araya', 'Carlos Valdovinos', 'Camino Agrícola', 'San Joaquín', 'Pedrero', 'Mirador', 'Bellavista de la Florida', 'Cerrillos', 'Lo Valledor', 'Biobío', 'Estadio Nacional', 'Inés de Suárez'))"
      ]
     },
     "execution_count": 28,
     "metadata": {},
     "output_type": "execute_result"
    }
   ],
   "source": [
    "METRO.nodes()"
   ]
  },
  {
   "cell_type": "code",
   "execution_count": 29,
   "metadata": {},
   "outputs": [
    {
     "data": {
      "text/plain": [
       "EdgeView([('San Pablo', 'Neptuno'), ('San Pablo', 'Pudahuel'), ('San Pablo', 'Lo Prado'), ('Neptuno', 'Pajaritos'), ('Pajaritos', 'Las Rejas'), ('Las Rejas', 'Ecuador'), ('Ecuador', 'San Alberto Hurtado'), ('San Alberto Hurtado', 'Universidad de Santiago'), ('Universidad de Santiago', 'Estación Central'), ('Estación Central', 'ULA'), ('ULA', 'República'), ('República', 'Los Héroes'), ('Los Héroes', 'La Moneda'), ('Los Héroes', 'Santa Ana'), ('Los Héroes', 'Toesca'), ('La Moneda', 'Universidad de Chile'), ('Universidad de Chile', 'Santa Lucía'), ('Universidad de Chile', 'Puente Cal y Canto'), ('Universidad de Chile', 'Plaza de Armas'), ('Santa Lucía', 'Universidad Católica'), ('Universidad Católica', 'Baquedano'), ('Baquedano', 'Salvador'), ('Baquedano', 'Bellas Artes'), ('Baquedano', 'Parque Bustamante'), ('Salvador', 'Manuel Montt'), ('Manuel Montt', 'Pedro de Valdivia'), ('Pedro de Valdivia', 'Los Leones'), ('Los Leones', 'Tobalaba'), ('Los Leones', 'Inés de Suárez'), ('Tobalaba', 'El Golf'), ('Tobalaba', 'Cristóbal Colón'), ('El Golf', 'Alcántara'), ('Alcántara', 'Escuela Militar'), ('Escuela Militar', 'Manquehue'), ('Manquehue', 'Hernando de Magallanes'), ('Hernando de Magallanes', 'Los Dominicos'), ('Vespucio Norte', 'Zapadores'), ('Zapadores', 'Dorsal'), ('Dorsal', 'Einstein'), ('Einstein', 'Cementerios'), ('Cementerios', 'Patronato'), ('Patronato', 'Puente Cal y Canto'), ('Puente Cal y Canto', 'Santa Ana'), ('Puente Cal y Canto', 'Hospitales'), ('Santa Ana', 'Cumming'), ('Santa Ana', 'Plaza de Armas'), ('Toesca', \"Parque O'Higgins\"), (\"Parque O'Higgins\", 'Rondizzoni'), ('Rondizzoni', 'Franklin'), ('Franklin', 'El Llano'), ('Franklin', 'Lo Valledor'), ('Franklin', 'Biobío'), ('El Llano', 'San Miguel'), ('San Miguel', 'Lo Vial'), ('Lo Vial', 'Departamental'), ('Departamental', 'Ciudad del Niño'), ('Ciudad del Niño', 'Lo Ovalle'), ('Lo Ovalle', 'El Parrón'), ('El Parrón', 'La Cisterna'), ('La Cisterna', 'Santa Rosa'), ('Los Libertadores', 'Cardenal Caro'), ('Cardenal Caro', 'Vivaceta'), ('Vivaceta', 'Conchalí'), ('Conchalí', 'Plaza Chacabuco'), ('Plaza Chacabuco', 'Hospitales'), ('Plaza de Armas', 'Santa Isabel'), ('Plaza de Armas', 'Bellas Artes'), ('Santa Isabel', 'Irarrázaval'), ('Santa Isabel', 'Ñuble'), ('Irarrázaval', 'Monseñor Eyzaguirre'), ('Irarrázaval', 'Parque Bustamante'), ('Monseñor Eyzaguirre', 'Ñuñoa'), ('Ñuñoa', 'Chile España'), ('Ñuñoa', 'Estadio Nacional'), ('Ñuñoa', 'Inés de Suárez'), ('Chile España', 'Villa Frei'), ('Villa Frei', 'Plaza Egaña'), ('Plaza Egaña', 'Los Orientales'), ('Plaza Egaña', 'Simón Bolívar'), ('Plaza Egaña', 'Los Presidentes'), ('Los Orientales', 'Fernando Castillo Velasco'), ('Cristóbal Colón', 'Francisco Bilbao'), ('Francisco Bilbao', 'Príncipe de Gales'), ('Príncipe de Gales', 'Simón Bolívar'), ('Los Presidentes', 'Quilín'), ('Quilín', 'Las Torres'), ('Las Torres', 'Macul'), ('Macul', 'Vicuña Mackenna'), ('Vicuña Mackenna', 'Vicente Valdés'), ('Vicuña Mackenna', 'Santa Julia'), ('Vicente Valdés', 'Rojas Magallanes'), ('Vicente Valdés', 'Bellavista de la Florida'), ('Rojas Magallanes', 'Trinidad'), ('Trinidad', 'San José de la Estrella'), ('San José de la Estrella', 'Los Quillayes'), ('Los Quillayes', 'Elisa Correa'), ('Elisa Correa', 'Hospital Sótero del Río'), ('Hospital Sótero del Río', 'Protectora de la Infancia'), ('Protectora de la Infancia', 'Las Mercedes'), ('Las Mercedes', 'Plaza de Puente Alto'), ('Santa Julia', 'La Granja'), ('La Granja', 'San Ramón'), ('San Ramón', 'Santa Rosa'), ('Plaza de Maipú', 'Santiago Bueras'), ('Santiago Bueras', 'Del Sol'), ('Del Sol', 'Monte Tabor'), ('Monte Tabor', 'Las Parcelas'), ('Las Parcelas', 'Laguna Sur'), ('Laguna Sur', 'Barrancas'), ('Barrancas', 'Pudahuel'), (nan, nan), ('Lo Prado', 'Blanqueado'), ('Blanqueado', 'Gruta de Lourdes'), ('Gruta de Lourdes', 'Quinta Normal'), ('Quinta Normal', 'Cumming'), ('Ñuble', 'Rodrigo de Araya'), ('Ñuble', 'Biobío'), ('Ñuble', 'Estadio Nacional'), ('Rodrigo de Araya', 'Carlos Valdovinos'), ('Carlos Valdovinos', 'Camino Agrícola'), ('Camino Agrícola', 'San Joaquín'), ('San Joaquín', 'Pedrero'), ('Pedrero', 'Mirador'), ('Mirador', 'Bellavista de la Florida'), ('Cerrillos', 'Lo Valledor')])"
      ]
     },
     "execution_count": 29,
     "metadata": {},
     "output_type": "execute_result"
    }
   ],
   "source": [
    "METRO.edges()"
   ]
  },
  {
   "cell_type": "code",
   "execution_count": 32,
   "metadata": {},
   "outputs": [
    {
     "data": {
      "text/plain": [
       "115"
      ]
     },
     "execution_count": 32,
     "metadata": {},
     "output_type": "execute_result"
    }
   ],
   "source": [
    "METRO.order()"
   ]
  },
  {
   "cell_type": "code",
   "execution_count": 31,
   "metadata": {},
   "outputs": [
    {
     "name": "stdout",
     "output_type": "stream",
     "text": [
      "San Pablo\n",
      "Los Héroes\n",
      "Universidad de Chile\n",
      "Baquedano\n",
      "Los Leones\n",
      "Tobalaba\n",
      "Puente Cal y Canto\n",
      "Santa Ana\n",
      "Franklin\n",
      "Plaza de Armas\n",
      "Santa Isabel\n",
      "Irarrázaval\n",
      "Ñuñoa\n",
      "Plaza Egaña\n",
      "Vicuña Mackenna\n",
      "Vicente Valdés\n",
      "Ñuble\n"
     ]
    }
   ],
   "source": [
    "for x in METRO.nodes():\n",
    "    if METRO.degree(x) > 2:\n",
    "        print(x)"
   ]
  },
  {
   "cell_type": "code",
   "execution_count": 36,
   "metadata": {},
   "outputs": [
    {
     "data": {
      "text/plain": [
       "['San Pablo',\n",
       " 'Lo Prado',\n",
       " 'Blanqueado',\n",
       " 'Gruta de Lourdes',\n",
       " 'Quinta Normal',\n",
       " 'Cumming',\n",
       " 'Santa Ana',\n",
       " 'Los Héroes',\n",
       " 'Toesca',\n",
       " \"Parque O'Higgins\",\n",
       " 'Rondizzoni',\n",
       " 'Franklin',\n",
       " 'El Llano',\n",
       " 'San Miguel',\n",
       " 'Lo Vial',\n",
       " 'Departamental',\n",
       " 'Ciudad del Niño',\n",
       " 'Lo Ovalle',\n",
       " 'El Parrón',\n",
       " 'La Cisterna',\n",
       " 'Santa Rosa',\n",
       " 'San Ramón']"
      ]
     },
     "execution_count": 36,
     "metadata": {},
     "output_type": "execute_result"
    }
   ],
   "source": [
    "djk_path=nx.dijkstra_path(METRO, source='San Pablo', target='San Ramón' )\n",
    "djk_path"
   ]
  },
  {
   "cell_type": "code",
   "execution_count": null,
   "metadata": {},
   "outputs": [],
   "source": [
    "ruta1 = METRO.subgraph(['San Pablo',\n",
    " 'Lo Prado',\n",
    " 'Blanqueado',\n",
    " 'Gruta de Lourdes',\n",
    " 'Quinta Normal',\n",
    " 'Cumming',\n",
    " 'Santa Ana',\n",
    " 'Los Héroes',\n",
    " 'Toesca',\n",
    " \"Parque O'Higgins\",\n",
    " 'Rondizzoni',\n",
    " 'Franklin',\n",
    " 'El Llano',\n",
    " 'San Miguel',\n",
    " 'Lo Vial',\n",
    " 'Departamental',\n",
    " 'Ciudad del Niño',\n",
    " 'Lo Ovalle',\n",
    " 'El Parrón',\n",
    " 'La Cisterna',\n",
    " 'Santa Rosa',\n",
    " 'San Ramón'])\n",
    "nx.draw(ruta1, with_labels=True)"
   ]
  }
 ],
 "metadata": {
  "kernelspec": {
   "display_name": "Python 3",
   "language": "python",
   "name": "python3"
  },
  "language_info": {
   "codemirror_mode": {
    "name": "ipython",
    "version": 3
   },
   "file_extension": ".py",
   "mimetype": "text/x-python",
   "name": "python",
   "nbconvert_exporter": "python",
   "pygments_lexer": "ipython3",
   "version": "3.11.5"
  }
 },
 "nbformat": 4,
 "nbformat_minor": 2
}
